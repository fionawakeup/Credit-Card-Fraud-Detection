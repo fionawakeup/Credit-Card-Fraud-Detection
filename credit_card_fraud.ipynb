{
 "cells": [
  {
   "cell_type": "code",
   "execution_count": null,
   "metadata": {
    "id": "N4Zlk8LrtsLv"
   },
   "outputs": [],
   "source": [
    "==## data analysis and wrangling\n",
    "import pandas as pd\n",
    "import numpy as np\n",
    "import random as rnd\n",
    "\n",
    "## visualization\n",
    "import seaborn as sns\n",
    "import matplotlib.pyplot as plt\n",
    "\n",
    "## machine learning\n",
    "from sklearn.model_selection import train_test_split\n",
    "from sklearn.utils import resample\n",
    "from imblearn.over_sampling import SMOTE\n",
    "from tensorflow import keras\n",
    "from sklearn.metrics import accuracy_score\n",
    "from sklearn.metrics import roc_curve\n",
    "from sklearn.metrics import auc\n",
    "from sklearn.linear_model import LogisticRegression\n",
    "from sklearn.svm import SVC, LinearSVC\n",
    "from sklearn.ensemble import RandomForestClassifier\n",
    "from sklearn.neighbors import KNeighborsClassifier\n",
    "from sklearn.naive_bayes import GaussianNB\n",
    "from sklearn.linear_model import Perceptron\n",
    "from sklearn.linear_model import SGDClassifier\n",
    "from sklearn.tree import DecisionTreeClassifier\n"
   ]
  },
  {
   "cell_type": "code",
   "execution_count": null,
   "metadata": {
    "id": "8t_1U0xnunEQ"
   },
   "outputs": [],
   "source": [
    "# Import PyDrive and associated libraries.\n",
    "from pydrive.auth import GoogleAuth\n",
    "from pydrive.drive import GoogleDrive\n",
    "from google.colab import auth\n",
    "from oauth2client.client import GoogleCredentials\n",
    "\n",
    "# Authenticate and create the PyDrive client.\n",
    "auth.authenticate_user()\n",
    "gauth = GoogleAuth()\n",
    "gauth.credentials = GoogleCredentials.get_application_default()\n",
    "drive = GoogleDrive(gauth)"
   ]
  },
  {
   "cell_type": "code",
   "execution_count": null,
   "metadata": {
    "id": "D_RwLrJ0B10i"
   },
   "outputs": [],
   "source": []
  },
  {
   "cell_type": "code",
   "execution_count": null,
   "metadata": {
    "id": "94CN156v1YJb"
   },
   "outputs": [],
   "source": [
    "# Download a file based on its file ID.\n",
    "#\n",
    "# A file ID looks like: laggVyWshwcyP6kEI-y_W3P8D26sz\n",
    "#4/0gEZkjsrSvoQeat12rt-gNWKkpVouCnIYnWOZ-jK231kDY38ZNn3eD0\n",
    "file_id = '1lvBPE20czZcTBL19gpB3Bxd-efjmTaYv'\n",
    "downloaded = drive.CreateFile({'id': file_id})\n",
    "#print('Downloaded content \"{}\"'.format(downloaded.GetContentString()))"
   ]
  },
  {
   "cell_type": "code",
   "execution_count": null,
   "metadata": {
    "id": "owz6TL2P6uAE"
   },
   "outputs": [],
   "source": [
    "downloaded.GetContentFile('data.csv')"
   ]
  },
  {
   "cell_type": "code",
   "execution_count": null,
   "metadata": {
    "colab": {
     "base_uri": "https://localhost:8080/",
     "height": 224
    },
    "id": "9FT4H1lB6oXY",
    "outputId": "0d9a7065-2a81-478f-a276-ffab02576450"
   },
   "outputs": [
    {
     "data": {
      "text/html": [
       "<div>\n",
       "<style scoped>\n",
       "    .dataframe tbody tr th:only-of-type {\n",
       "        vertical-align: middle;\n",
       "    }\n",
       "\n",
       "    .dataframe tbody tr th {\n",
       "        vertical-align: top;\n",
       "    }\n",
       "\n",
       "    .dataframe thead th {\n",
       "        text-align: right;\n",
       "    }\n",
       "</style>\n",
       "<table border=\"1\" class=\"dataframe\">\n",
       "  <thead>\n",
       "    <tr style=\"text-align: right;\">\n",
       "      <th></th>\n",
       "      <th>Time</th>\n",
       "      <th>V1</th>\n",
       "      <th>V2</th>\n",
       "      <th>V3</th>\n",
       "      <th>V4</th>\n",
       "      <th>V5</th>\n",
       "      <th>V6</th>\n",
       "      <th>V7</th>\n",
       "      <th>V8</th>\n",
       "      <th>V9</th>\n",
       "      <th>V10</th>\n",
       "      <th>V11</th>\n",
       "      <th>V12</th>\n",
       "      <th>V13</th>\n",
       "      <th>V14</th>\n",
       "      <th>V15</th>\n",
       "      <th>V16</th>\n",
       "      <th>V17</th>\n",
       "      <th>V18</th>\n",
       "      <th>V19</th>\n",
       "      <th>V20</th>\n",
       "      <th>V21</th>\n",
       "      <th>V22</th>\n",
       "      <th>V23</th>\n",
       "      <th>V24</th>\n",
       "      <th>V25</th>\n",
       "      <th>V26</th>\n",
       "      <th>V27</th>\n",
       "      <th>V28</th>\n",
       "      <th>Amount</th>\n",
       "      <th>Class</th>\n",
       "    </tr>\n",
       "  </thead>\n",
       "  <tbody>\n",
       "    <tr>\n",
       "      <th>0</th>\n",
       "      <td>0.0</td>\n",
       "      <td>-1.359807</td>\n",
       "      <td>-0.072781</td>\n",
       "      <td>2.536347</td>\n",
       "      <td>1.378155</td>\n",
       "      <td>-0.338321</td>\n",
       "      <td>0.462388</td>\n",
       "      <td>0.239599</td>\n",
       "      <td>0.098698</td>\n",
       "      <td>0.363787</td>\n",
       "      <td>0.090794</td>\n",
       "      <td>-0.551600</td>\n",
       "      <td>-0.617801</td>\n",
       "      <td>-0.991390</td>\n",
       "      <td>-0.311169</td>\n",
       "      <td>1.468177</td>\n",
       "      <td>-0.470401</td>\n",
       "      <td>0.207971</td>\n",
       "      <td>0.025791</td>\n",
       "      <td>0.403993</td>\n",
       "      <td>0.251412</td>\n",
       "      <td>-0.018307</td>\n",
       "      <td>0.277838</td>\n",
       "      <td>-0.110474</td>\n",
       "      <td>0.066928</td>\n",
       "      <td>0.128539</td>\n",
       "      <td>-0.189115</td>\n",
       "      <td>0.133558</td>\n",
       "      <td>-0.021053</td>\n",
       "      <td>149.62</td>\n",
       "      <td>0</td>\n",
       "    </tr>\n",
       "    <tr>\n",
       "      <th>1</th>\n",
       "      <td>0.0</td>\n",
       "      <td>1.191857</td>\n",
       "      <td>0.266151</td>\n",
       "      <td>0.166480</td>\n",
       "      <td>0.448154</td>\n",
       "      <td>0.060018</td>\n",
       "      <td>-0.082361</td>\n",
       "      <td>-0.078803</td>\n",
       "      <td>0.085102</td>\n",
       "      <td>-0.255425</td>\n",
       "      <td>-0.166974</td>\n",
       "      <td>1.612727</td>\n",
       "      <td>1.065235</td>\n",
       "      <td>0.489095</td>\n",
       "      <td>-0.143772</td>\n",
       "      <td>0.635558</td>\n",
       "      <td>0.463917</td>\n",
       "      <td>-0.114805</td>\n",
       "      <td>-0.183361</td>\n",
       "      <td>-0.145783</td>\n",
       "      <td>-0.069083</td>\n",
       "      <td>-0.225775</td>\n",
       "      <td>-0.638672</td>\n",
       "      <td>0.101288</td>\n",
       "      <td>-0.339846</td>\n",
       "      <td>0.167170</td>\n",
       "      <td>0.125895</td>\n",
       "      <td>-0.008983</td>\n",
       "      <td>0.014724</td>\n",
       "      <td>2.69</td>\n",
       "      <td>0</td>\n",
       "    </tr>\n",
       "    <tr>\n",
       "      <th>2</th>\n",
       "      <td>1.0</td>\n",
       "      <td>-1.358354</td>\n",
       "      <td>-1.340163</td>\n",
       "      <td>1.773209</td>\n",
       "      <td>0.379780</td>\n",
       "      <td>-0.503198</td>\n",
       "      <td>1.800499</td>\n",
       "      <td>0.791461</td>\n",
       "      <td>0.247676</td>\n",
       "      <td>-1.514654</td>\n",
       "      <td>0.207643</td>\n",
       "      <td>0.624501</td>\n",
       "      <td>0.066084</td>\n",
       "      <td>0.717293</td>\n",
       "      <td>-0.165946</td>\n",
       "      <td>2.345865</td>\n",
       "      <td>-2.890083</td>\n",
       "      <td>1.109969</td>\n",
       "      <td>-0.121359</td>\n",
       "      <td>-2.261857</td>\n",
       "      <td>0.524980</td>\n",
       "      <td>0.247998</td>\n",
       "      <td>0.771679</td>\n",
       "      <td>0.909412</td>\n",
       "      <td>-0.689281</td>\n",
       "      <td>-0.327642</td>\n",
       "      <td>-0.139097</td>\n",
       "      <td>-0.055353</td>\n",
       "      <td>-0.059752</td>\n",
       "      <td>378.66</td>\n",
       "      <td>0</td>\n",
       "    </tr>\n",
       "    <tr>\n",
       "      <th>3</th>\n",
       "      <td>1.0</td>\n",
       "      <td>-0.966272</td>\n",
       "      <td>-0.185226</td>\n",
       "      <td>1.792993</td>\n",
       "      <td>-0.863291</td>\n",
       "      <td>-0.010309</td>\n",
       "      <td>1.247203</td>\n",
       "      <td>0.237609</td>\n",
       "      <td>0.377436</td>\n",
       "      <td>-1.387024</td>\n",
       "      <td>-0.054952</td>\n",
       "      <td>-0.226487</td>\n",
       "      <td>0.178228</td>\n",
       "      <td>0.507757</td>\n",
       "      <td>-0.287924</td>\n",
       "      <td>-0.631418</td>\n",
       "      <td>-1.059647</td>\n",
       "      <td>-0.684093</td>\n",
       "      <td>1.965775</td>\n",
       "      <td>-1.232622</td>\n",
       "      <td>-0.208038</td>\n",
       "      <td>-0.108300</td>\n",
       "      <td>0.005274</td>\n",
       "      <td>-0.190321</td>\n",
       "      <td>-1.175575</td>\n",
       "      <td>0.647376</td>\n",
       "      <td>-0.221929</td>\n",
       "      <td>0.062723</td>\n",
       "      <td>0.061458</td>\n",
       "      <td>123.50</td>\n",
       "      <td>0</td>\n",
       "    </tr>\n",
       "    <tr>\n",
       "      <th>4</th>\n",
       "      <td>2.0</td>\n",
       "      <td>-1.158233</td>\n",
       "      <td>0.877737</td>\n",
       "      <td>1.548718</td>\n",
       "      <td>0.403034</td>\n",
       "      <td>-0.407193</td>\n",
       "      <td>0.095921</td>\n",
       "      <td>0.592941</td>\n",
       "      <td>-0.270533</td>\n",
       "      <td>0.817739</td>\n",
       "      <td>0.753074</td>\n",
       "      <td>-0.822843</td>\n",
       "      <td>0.538196</td>\n",
       "      <td>1.345852</td>\n",
       "      <td>-1.119670</td>\n",
       "      <td>0.175121</td>\n",
       "      <td>-0.451449</td>\n",
       "      <td>-0.237033</td>\n",
       "      <td>-0.038195</td>\n",
       "      <td>0.803487</td>\n",
       "      <td>0.408542</td>\n",
       "      <td>-0.009431</td>\n",
       "      <td>0.798278</td>\n",
       "      <td>-0.137458</td>\n",
       "      <td>0.141267</td>\n",
       "      <td>-0.206010</td>\n",
       "      <td>0.502292</td>\n",
       "      <td>0.219422</td>\n",
       "      <td>0.215153</td>\n",
       "      <td>69.99</td>\n",
       "      <td>0</td>\n",
       "    </tr>\n",
       "  </tbody>\n",
       "</table>\n",
       "</div>"
      ],
      "text/plain": [
       "   Time        V1        V2        V3  ...       V27       V28  Amount  Class\n",
       "0   0.0 -1.359807 -0.072781  2.536347  ...  0.133558 -0.021053  149.62      0\n",
       "1   0.0  1.191857  0.266151  0.166480  ... -0.008983  0.014724    2.69      0\n",
       "2   1.0 -1.358354 -1.340163  1.773209  ... -0.055353 -0.059752  378.66      0\n",
       "3   1.0 -0.966272 -0.185226  1.792993  ...  0.062723  0.061458  123.50      0\n",
       "4   2.0 -1.158233  0.877737  1.548718  ...  0.219422  0.215153   69.99      0\n",
       "\n",
       "[5 rows x 31 columns]"
      ]
     },
     "execution_count": 8,
     "metadata": {
      "tags": []
     },
     "output_type": "execute_result"
    }
   ],
   "source": [
    "## acquire data\n",
    "All_data = pd.read_csv('data.csv')\n",
    "All_data.head()"
   ]
  },
  {
   "cell_type": "code",
   "execution_count": null,
   "metadata": {
    "colab": {
     "base_uri": "https://localhost:8080/",
     "height": 1000
    },
    "id": "ul9Ey6iHWvUQ",
    "outputId": "84a28499-0b3e-4a0a-d96e-17ffa5364c54"
   },
   "outputs": [
    {
     "data": {
      "image/png": "[encoded data removed]",
      "text/plain": [
       "<Figure size 1080x1152 with 30 Axes>"
      ]
     },
     "metadata": {
      "needs_background": "light",
      "tags": []
     },
     "output_type": "display_data"
    }
   ],
   "source": [
    "## go over/check the distribution of all data\n",
    "\n",
    "fig, ax = plt.subplots(nrows=6, ncols=5, sharex=False, sharey=False)\n",
    "i=0\n",
    "for row in ax:\n",
    "    for col in row:\n",
    "        feature = All_data.columns[i]\n",
    "        col.hist(All_data[feature],50,alpha=1, cumulative=0,density=True)\n",
    "        col.set_title(feature)\n",
    "        i+=1\n",
    "fig = plt.gcf()\n",
    "fig.set_size_inches(15, 16)\n",
    "fig.tight_layout(pad=1.0)\n",
    "plt.show()"
   ]
  },
  {
   "cell_type": "code",
   "execution_count": null,
   "metadata": {
    "colab": {
     "base_uri": "https://localhost:8080/",
     "height": 1000
    },
    "id": "pc5oi9M1XHHa",
    "outputId": "080a2955-85f0-46ae-8edb-14b2705a804c"
   },
   "outputs": [
    {
     "name": "stdout",
     "output_type": "stream",
     "text": [
      "[[ 1.    0.12 -0.01 -0.42 -0.11  0.17 -0.06  0.08 -0.04 -0.01  0.03 -0.25\n",
      "   0.12 -0.07 -0.1  -0.18  0.01 -0.07  0.09  0.03 -0.05  0.04  0.14  0.05\n",
      "  -0.02 -0.23 -0.04 -0.01 -0.01 -0.01]\n",
      " [ 0.12  1.   -0.   -0.   -0.    0.    0.    0.   -0.    0.    0.    0.\n",
      "   0.   -0.    0.   -0.    0.   -0.    0.    0.    0.   -0.    0.    0.\n",
      "  -0.   -0.   -0.    0.    0.   -0.23]\n",
      " [-0.01 -0.    1.    0.   -0.    0.    0.   -0.    0.   -0.   -0.    0.\n",
      "  -0.   -0.   -0.    0.    0.   -0.    0.    0.    0.    0.    0.    0.\n",
      "  -0.    0.    0.   -0.   -0.   -0.53]\n",
      " [-0.42 -0.    0.    1.   -0.   -0.    0.    0.   -0.    0.    0.    0.\n",
      "   0.   -0.    0.   -0.    0.    0.    0.    0.    0.   -0.   -0.   -0.\n",
      "   0.    0.   -0.    0.    0.   -0.21]\n",
      " [-0.11 -0.   -0.   -0.    1.   -0.   -0.   -0.    0.    0.   -0.   -0.\n",
      "  -0.    0.   -0.    0.   -0.   -0.   -0.   -0.   -0.   -0.    0.    0.\n",
      "   0.    0.   -0.   -0.   -0.    0.1 ]\n",
      " [ 0.17  0.    0.   -0.   -0.    1.    0.   -0.    0.    0.    0.    0.\n",
      "   0.   -0.    0.    0.    0.    0.    0.   -0.   -0.   -0.    0.    0.\n",
      "  -0.   -0.    0.    0.   -0.   -0.39]\n",
      " [-0.06  0.    0.    0.   -0.    0.    1.   -0.   -0.   -0.    0.    0.\n",
      "   0.   -0.    0.   -0.   -0.    0.    0.    0.    0.   -0.   -0.    0.\n",
      "  -0.    0.   -0.   -0.    0.    0.22]\n",
      " [ 0.08  0.   -0.    0.   -0.   -0.   -0.    1.   -0.    0.    0.   -0.\n",
      "   0.   -0.    0.   -0.    0.    0.    0.   -0.    0.    0.   -0.   -0.\n",
      "  -0.    0.   -0.   -0.    0.    0.4 ]\n",
      " [-0.04 -0.    0.   -0.    0.    0.   -0.   -0.    1.    0.    0.    0.\n",
      "   0.   -0.   -0.    0.    0.   -0.   -0.   -0.    0.    0.    0.    0.\n",
      "  -0.   -0.   -0.    0.   -0.   -0.1 ]\n",
      " [-0.01  0.   -0.    0.    0.    0.   -0.    0.    0.    1.   -0.    0.\n",
      "  -0.    0.    0.   -0.   -0.    0.    0.    0.   -0.    0.   -0.   -0.\n",
      "  -0.    0.   -0.   -0.    0.   -0.04]\n",
      " [ 0.03  0.   -0.    0.   -0.    0.    0.    0.    0.   -0.    1.   -0.\n",
      "   0.   -0.    0.    0.    0.    0.    0.    0.   -0.    0.   -0.    0.\n",
      "  -0.   -0.   -0.   -0.    0.   -0.1 ]\n",
      " [-0.25  0.    0.    0.   -0.    0.    0.   -0.    0.    0.   -0.    1.\n",
      "  -0.    0.   -0.    0.    0.    0.    0.   -0.   -0.    0.    0.    0.\n",
      "   0.   -0.   -0.   -0.   -0.    0.  ]\n",
      " [ 0.12  0.   -0.    0.   -0.    0.    0.    0.    0.   -0.    0.   -0.\n",
      "   1.   -0.    0.   -0.    0.   -0.   -0.    0.    0.    0.   -0.    0.\n",
      "   0.    0.    0.   -0.    0.   -0.01]\n",
      " [-0.07 -0.   -0.   -0.    0.   -0.   -0.   -0.   -0.    0.   -0.    0.\n",
      "  -0.    1.    0.   -0.    0.    0.    0.   -0.    0.    0.   -0.   -0.\n",
      "  -0.   -0.   -0.   -0.    0.    0.01]\n",
      " [-0.1   0.   -0.    0.   -0.    0.    0.    0.   -0.    0.    0.   -0.\n",
      "   0.    0.    1.   -0.   -0.    0.   -0.    0.    0.   -0.    0.    0.\n",
      "   0.   -0.   -0.    0.    0.    0.03]\n",
      " [-0.18 -0.    0.   -0.    0.    0.   -0.   -0.    0.   -0.    0.    0.\n",
      "  -0.   -0.   -0.    1.    0.   -0.    0.   -0.    0.    0.   -0.    0.\n",
      "  -0.    0.    0.   -0.   -0.   -0.  ]\n",
      " [ 0.01  0.    0.    0.   -0.    0.   -0.    0.    0.   -0.    0.    0.\n",
      "   0.    0.   -0.    0.    1.    0.   -0.    0.    0.   -0.    0.    0.\n",
      "  -0.   -0.   -0.    0.    0.   -0.  ]\n",
      " [-0.07 -0.   -0.    0.   -0.    0.    0.    0.   -0.    0.    0.    0.\n",
      "  -0.    0.    0.   -0.    0.    1.   -0.    0.   -0.   -0.   -0.    0.\n",
      "  -0.    0.    0.    0.   -0.    0.01]\n",
      " [ 0.09  0.    0.    0.   -0.    0.    0.    0.   -0.    0.    0.    0.\n",
      "  -0.    0.   -0.    0.   -0.   -0.    1.   -0.   -0.   -0.   -0.   -0.\n",
      "  -0.   -0.    0.    0.    0.    0.04]\n",
      " [ 0.03  0.    0.    0.   -0.   -0.    0.   -0.   -0.    0.    0.   -0.\n",
      "   0.   -0.    0.   -0.    0.    0.   -0.    1.    0.    0.   -0.    0.\n",
      "  -0.    0.    0.   -0.   -0.   -0.06]\n",
      " [-0.05  0.    0.    0.   -0.   -0.    0.    0.    0.   -0.   -0.   -0.\n",
      "   0.    0.    0.    0.    0.   -0.   -0.    0.    1.   -0.    0.    0.\n",
      "   0.    0.   -0.   -0.   -0.    0.34]\n",
      " [ 0.04 -0.    0.   -0.   -0.   -0.   -0.    0.    0.    0.    0.    0.\n",
      "   0.    0.   -0.    0.   -0.   -0.   -0.    0.   -0.    1.    0.    0.\n",
      "   0.   -0.   -0.   -0.    0.    0.11]\n",
      " [ 0.14  0.    0.   -0.    0.    0.   -0.   -0.    0.   -0.   -0.    0.\n",
      "  -0.   -0.    0.   -0.    0.   -0.   -0.   -0.    0.    0.    1.    0.\n",
      "   0.   -0.   -0.    0.   -0.   -0.06]\n",
      " [ 0.05  0.    0.   -0.    0.    0.    0.   -0.    0.   -0.    0.    0.\n",
      "   0.   -0.    0.    0.    0.    0.   -0.    0.    0.    0.    0.    1.\n",
      "   0.   -0.    0.    0.    0.   -0.11]\n",
      " [-0.02 -0.   -0.    0.    0.   -0.   -0.   -0.   -0.   -0.   -0.    0.\n",
      "   0.   -0.    0.   -0.   -0.   -0.   -0.   -0.    0.    0.    0.    0.\n",
      "   1.    0.    0.   -0.   -0.    0.01]\n",
      " [-0.23 -0.    0.    0.    0.   -0.    0.    0.   -0.    0.   -0.   -0.\n",
      "   0.   -0.   -0.    0.   -0.    0.   -0.    0.    0.   -0.   -0.   -0.\n",
      "   0.    1.    0.   -0.    0.   -0.05]\n",
      " [-0.04 -0.    0.   -0.   -0.    0.   -0.   -0.   -0.   -0.   -0.   -0.\n",
      "   0.   -0.   -0.    0.   -0.    0.    0.    0.   -0.   -0.   -0.    0.\n",
      "   0.    0.    1.   -0.   -0.   -0.  ]\n",
      " [-0.01  0.   -0.    0.   -0.    0.   -0.   -0.    0.   -0.   -0.   -0.\n",
      "  -0.   -0.    0.   -0.    0.    0.    0.   -0.   -0.   -0.    0.    0.\n",
      "  -0.   -0.   -0.    1.    0.    0.03]\n",
      " [-0.01  0.   -0.    0.   -0.   -0.    0.    0.   -0.    0.    0.   -0.\n",
      "   0.    0.    0.   -0.    0.   -0.    0.   -0.   -0.    0.   -0.    0.\n",
      "  -0.    0.   -0.    0.    1.    0.01]\n",
      " [-0.01 -0.23 -0.53 -0.21  0.1  -0.39  0.22  0.4  -0.1  -0.04 -0.1   0.\n",
      "  -0.01  0.01  0.03 -0.   -0.    0.01  0.04 -0.06  0.34  0.11 -0.06 -0.11\n",
      "   0.01 -0.05 -0.    0.03  0.01  1.  ]]\n"
     ]
    },
    {
     "data": {
      "text/plain": [
       "[Text(0, 0, 'Time'),\n",
       " Text(0, 0, 'V1'),\n",
       " Text(0, 0, 'V2'),\n",
       " Text(0, 0, 'V3'),\n",
       " Text(0, 0, 'V4'),\n",
       " Text(0, 0, 'V5'),\n",
       " Text(0, 0, 'V6'),\n",
       " Text(0, 0, 'V7'),\n",
       " Text(0, 0, 'V8'),\n",
       " Text(0, 0, 'V9'),\n",
       " Text(0, 0, 'V10'),\n",
       " Text(0, 0, 'V11'),\n",
       " Text(0, 0, 'V12'),\n",
       " Text(0, 0, 'V13'),\n",
       " Text(0, 0, 'V14'),\n",
       " Text(0, 0, 'V15'),\n",
       " Text(0, 0, 'V16'),\n",
       " Text(0, 0, 'V17'),\n",
       " Text(0, 0, 'V18'),\n",
       " Text(0, 0, 'V19'),\n",
       " Text(0, 0, 'V20'),\n",
       " Text(0, 0, 'V21'),\n",
       " Text(0, 0, 'V22'),\n",
       " Text(0, 0, 'V23'),\n",
       " Text(0, 0, 'V24'),\n",
       " Text(0, 0, 'V25'),\n",
       " Text(0, 0, 'V26'),\n",
       " Text(0, 0, 'V27'),\n",
       " Text(0, 0, 'V28'),\n",
       " Text(0, 0, 'Amount')]"
      ]
     },
     "execution_count": 10,
     "metadata": {
      "tags": []
     },
     "output_type": "execute_result"
    },
    {
     "data": {
      "image/png": "[encoded data removed]",
      "text/plain": [
       "<Figure size 720x720 with 2 Axes>"
      ]
     },
     "metadata": {
      "needs_background": "light",
      "tags": []
     },
     "output_type": "display_data"
    }
   ],
   "source": [
    " ##check correlation analysis to pick features\n",
    "x = All_data.iloc[:,:-1]\n",
    "correlation_matrix = np.corrcoef(x, rowvar=False) \n",
    "print(correlation_matrix.round(2))\n",
    "\n",
    "fig = plt.figure(figsize=(10,10))\n",
    "ax = fig.add_subplot(111)\n",
    "legend=ax.matshow(correlation_matrix)\n",
    "fig.colorbar(legend)\n",
    "ticks = np.arange(0, 30, 1)\n",
    "ax.set_xticks(ticks)\n",
    "ax.set_yticks(ticks)\n",
    "ax.set_xticklabels(All_data.iloc[:,:-1])\n",
    "ax.set_yticklabels(All_data.iloc[:,:-1])"
   ]
  },
  {
   "cell_type": "code",
   "execution_count": null,
   "metadata": {
    "id": "0l8ZIJDlzl9s"
   },
   "outputs": [],
   "source": [
    "## Based on above figure, it looks like there are no duplicate features. All data should be considered.\n",
    "## Separate input features and target\n",
    "\n",
    "y = All_data.Class\n",
    "X = All_data.drop('Class', axis=1)\n",
    "\n",
    "## split testing and training sets: 75% training data, 15% validation data, 15% test data\n",
    "X_train, Dx_test, y_train, Dy_test = train_test_split(X, y, test_size=0.3, random_state=20)\n",
    "X_validation, X_test, y_validation, y_test = train_test_split(Dx_test, Dy_test, test_size=0.5, random_state=20)"
   ]
  },
  {
   "cell_type": "code",
   "execution_count": null,
   "metadata": {
    "colab": {
     "base_uri": "https://localhost:8080/",
     "height": 34
    },
    "id": "_Yi-pH0GgwtR",
    "outputId": "2750cea5-f371-4484-c965-17e17bbff8fd"
   },
   "outputs": [
    {
     "name": "stdout",
     "output_type": "stream",
     "text": [
      "Number of positive samples in training data: 356 (0.18% of total)\n"
     ]
    }
   ],
   "source": [
    "# check imbalance\n",
    "counts = np.bincount(y_train)\n",
    "print(\n",
    "    \"Number of positive samples in training data: {} ({:.2f}% of total)\".format(\n",
    "        counts[1], 100 * float(counts[1]) / len(X_train)\n",
    "    )\n",
    ")\n",
    "\n",
    "weight_for_0 = 1.0 / counts[0]\n",
    "weight_for_1 = 1.0 / counts[1]"
   ]
  },
  {
   "cell_type": "code",
   "execution_count": null,
   "metadata": {
    "id": "_lamr5IsWNc1"
   },
   "outputs": [],
   "source": [
    "#Normalize the features\n",
    "mean = np.mean(X_train, axis=0)\n",
    "X_train -= mean\n",
    "X_validation -= mean\n",
    "X_test -= mean\n",
    "std = np.std(X_train, axis=0)\n",
    "X_train /= std\n",
    "X_validation /= std\n",
    "X_test /= std"
   ]
  },
  {
   "cell_type": "code",
   "execution_count": null,
   "metadata": {
    "colab": {
     "base_uri": "https://localhost:8080/",
     "height": 493
    },
    "id": "lf98xOB1znhM",
    "outputId": "bf4b0b74-361b-4c6e-f0b2-5387aaf26884"
   },
   "outputs": [
    {
     "name": "stdout",
     "output_type": "stream",
     "text": [
      "Model: \"sequential\"\n",
      "_________________________________________________________________\n",
      "Layer (type)                 Output Shape              Param #   \n",
      "=================================================================\n",
      "dense (Dense)                (None, 256)               7936      \n",
      "_________________________________________________________________\n",
      "dense_1 (Dense)              (None, 256)               65792     \n",
      "_________________________________________________________________\n",
      "dropout (Dropout)            (None, 256)               0         \n",
      "_________________________________________________________________\n",
      "dense_2 (Dense)              (None, 256)               65792     \n",
      "_________________________________________________________________\n",
      "dropout_1 (Dropout)          (None, 256)               0         \n",
      "_________________________________________________________________\n",
      "dense_3 (Dense)              (None, 256)               65792     \n",
      "_________________________________________________________________\n",
      "dropout_2 (Dropout)          (None, 256)               0         \n",
      "_________________________________________________________________\n",
      "dense_4 (Dense)              (None, 256)               65792     \n",
      "_________________________________________________________________\n",
      "dropout_3 (Dropout)          (None, 256)               0         \n",
      "_________________________________________________________________\n",
      "dense_5 (Dense)              (None, 1)                 257       \n",
      "=================================================================\n",
      "Total params: 271,361\n",
      "Trainable params: 271,361\n",
      "Non-trainable params: 0\n",
      "_________________________________________________________________\n"
     ]
    }
   ],
   "source": [
    "## NN model \n",
    "model = keras.Sequential(\n",
    "    [\n",
    "        keras.layers.Dense(\n",
    "            256, activation=\"relu\", input_shape=(30,)\n",
    "        ),\n",
    "        keras.layers.Dense(256, activation=\"relu\"),\n",
    "        keras.layers.Dropout(0.3),\n",
    "        keras.layers.Dense(256, activation=\"relu\"),\n",
    "        keras.layers.Dropout(0.3),\n",
    "        keras.layers.Dense(256, activation=\"relu\"),\n",
    "        keras.layers.Dropout(0.3),\n",
    "        keras.layers.Dense(256, activation=\"relu\"),\n",
    "        keras.layers.Dropout(0.3),\n",
    "        keras.layers.Dense(1, activation=\"sigmoid\"),\n",
    "    ]\n",
    ")\n",
    "model.summary()"
   ]
  },
  {
   "cell_type": "code",
   "execution_count": null,
   "metadata": {
    "colab": {
     "base_uri": "https://localhost:8080/",
     "height": 734
    },
    "id": "Q0qfAMrnVRyi",
    "outputId": "8c68d133-4792-4821-89e9-83e111ef780f"
   },
   "outputs": [
    {
     "name": "stdout",
     "output_type": "stream",
     "text": [
      "Epoch 1/20\n",
      "195/195 - 3s - loss: 3.0215e-06 - fn: 42.0000 - fp: 22845.0000 - tn: 176163.0000 - tp: 314.0000 - precision: 0.0136 - recall: 0.8820 - auc: 0.9463 - val_loss: 0.1434 - val_fn: 13.0000 - val_fp: 376.0000 - val_tn: 42273.0000 - val_tp: 59.0000 - val_precision: 0.1356 - val_recall: 0.8194 - val_auc: 0.9535\n",
      "Epoch 2/20\n",
      "195/195 - 2s - loss: 2.0385e-06 - fn: 34.0000 - fp: 5633.0000 - tn: 193375.0000 - tp: 322.0000 - precision: 0.0541 - recall: 0.9045 - auc: 0.9635 - val_loss: 0.1971 - val_fn: 9.0000 - val_fp: 1560.0000 - val_tn: 41089.0000 - val_tp: 63.0000 - val_precision: 0.0388 - val_recall: 0.8750 - val_auc: 0.9646\n",
      "Epoch 3/20\n",
      "195/195 - 2s - loss: 1.9709e-06 - fn: 32.0000 - fp: 7053.0000 - tn: 191955.0000 - tp: 324.0000 - precision: 0.0439 - recall: 0.9101 - auc: 0.9689 - val_loss: 0.1176 - val_fn: 11.0000 - val_fp: 660.0000 - val_tn: 41989.0000 - val_tp: 61.0000 - val_precision: 0.0846 - val_recall: 0.8472 - val_auc: 0.9685\n",
      "Epoch 4/20\n",
      "195/195 - 2s - loss: 4.0137e-06 - fn: 40.0000 - fp: 11508.0000 - tn: 187500.0000 - tp: 316.0000 - precision: 0.0267 - recall: 0.8876 - auc: 0.9513 - val_loss: 0.1035 - val_fn: 16.0000 - val_fp: 151.0000 - val_tn: 42498.0000 - val_tp: 56.0000 - val_precision: 0.2705 - val_recall: 0.7778 - val_auc: 0.9449\n",
      "Epoch 5/20\n",
      "195/195 - 2s - loss: 1.1303e-05 - fn: 52.0000 - fp: 14388.0000 - tn: 184620.0000 - tp: 304.0000 - precision: 0.0207 - recall: 0.8539 - auc: 0.9137 - val_loss: 0.1222 - val_fn: 15.0000 - val_fp: 27.0000 - val_tn: 42622.0000 - val_tp: 57.0000 - val_precision: 0.6786 - val_recall: 0.7917 - val_auc: 0.9334\n",
      "Epoch 6/20\n",
      "195/195 - 2s - loss: 2.0384e-06 - fn: 38.0000 - fp: 5249.0000 - tn: 193759.0000 - tp: 318.0000 - precision: 0.0571 - recall: 0.8933 - auc: 0.9660 - val_loss: 0.0779 - val_fn: 10.0000 - val_fp: 467.0000 - val_tn: 42182.0000 - val_tp: 62.0000 - val_precision: 0.1172 - val_recall: 0.8611 - val_auc: 0.9637\n",
      "Epoch 7/20\n",
      "195/195 - 2s - loss: 1.9894e-06 - fn: 37.0000 - fp: 5372.0000 - tn: 193636.0000 - tp: 319.0000 - precision: 0.0561 - recall: 0.8961 - auc: 0.9706 - val_loss: 0.1772 - val_fn: 11.0000 - val_fp: 898.0000 - val_tn: 41751.0000 - val_tp: 61.0000 - val_precision: 0.0636 - val_recall: 0.8472 - val_auc: 0.9721\n",
      "Epoch 8/20\n",
      "195/195 - 2s - loss: 1.4713e-06 - fn: 22.0000 - fp: 5300.0000 - tn: 193708.0000 - tp: 334.0000 - precision: 0.0593 - recall: 0.9382 - auc: 0.9799 - val_loss: 0.1195 - val_fn: 8.0000 - val_fp: 1025.0000 - val_tn: 41624.0000 - val_tp: 64.0000 - val_precision: 0.0588 - val_recall: 0.8889 - val_auc: 0.9736\n",
      "Epoch 9/20\n",
      "195/195 - 2s - loss: 1.6100e-06 - fn: 21.0000 - fp: 5643.0000 - tn: 193365.0000 - tp: 335.0000 - precision: 0.0560 - recall: 0.9410 - auc: 0.9836 - val_loss: 0.0495 - val_fn: 12.0000 - val_fp: 542.0000 - val_tn: 42107.0000 - val_tp: 60.0000 - val_precision: 0.0997 - val_recall: 0.8333 - val_auc: 0.9463\n",
      "Epoch 10/20\n",
      "195/195 - 2s - loss: 1.5160e-06 - fn: 27.0000 - fp: 4535.0000 - tn: 194473.0000 - tp: 329.0000 - precision: 0.0676 - recall: 0.9242 - auc: 0.9832 - val_loss: 0.0531 - val_fn: 9.0000 - val_fp: 297.0000 - val_tn: 42352.0000 - val_tp: 63.0000 - val_precision: 0.1750 - val_recall: 0.8750 - val_auc: 0.9652\n",
      "Epoch 11/20\n",
      "195/195 - 2s - loss: 1.6054e-06 - fn: 23.0000 - fp: 5769.0000 - tn: 193239.0000 - tp: 333.0000 - precision: 0.0546 - recall: 0.9354 - auc: 0.9814 - val_loss: 0.3959 - val_fn: 11.0000 - val_fp: 1816.0000 - val_tn: 40833.0000 - val_tp: 61.0000 - val_precision: 0.0325 - val_recall: 0.8472 - val_auc: 0.9405\n",
      "Epoch 12/20\n",
      "195/195 - 2s - loss: 1.0030e-05 - fn: 42.0000 - fp: 6963.0000 - tn: 192045.0000 - tp: 314.0000 - precision: 0.0431 - recall: 0.8820 - auc: 0.9548 - val_loss: 0.1743 - val_fn: 14.0000 - val_fp: 55.0000 - val_tn: 42594.0000 - val_tp: 58.0000 - val_precision: 0.5133 - val_recall: 0.8056 - val_auc: 0.9548\n",
      "Epoch 13/20\n",
      "195/195 - 2s - loss: 1.5721e-05 - fn: 40.0000 - fp: 9101.0000 - tn: 189907.0000 - tp: 316.0000 - precision: 0.0336 - recall: 0.8876 - auc: 0.9425 - val_loss: 0.5236 - val_fn: 16.0000 - val_fp: 191.0000 - val_tn: 42458.0000 - val_tp: 56.0000 - val_precision: 0.2267 - val_recall: 0.7778 - val_auc: 0.9442\n",
      "Epoch 14/20\n",
      "195/195 - 2s - loss: 1.7403e-05 - fn: 45.0000 - fp: 6640.0000 - tn: 192368.0000 - tp: 311.0000 - precision: 0.0447 - recall: 0.8736 - auc: 0.9464 - val_loss: 0.1188 - val_fn: 7.0000 - val_fp: 1156.0000 - val_tn: 41493.0000 - val_tp: 65.0000 - val_precision: 0.0532 - val_recall: 0.9028 - val_auc: 0.9442\n",
      "Epoch 15/20\n",
      "195/195 - 2s - loss: 5.9887e-06 - fn: 31.0000 - fp: 5423.0000 - tn: 193585.0000 - tp: 325.0000 - precision: 0.0565 - recall: 0.9129 - auc: 0.9730 - val_loss: 0.2928 - val_fn: 10.0000 - val_fp: 1017.0000 - val_tn: 41632.0000 - val_tp: 62.0000 - val_precision: 0.0575 - val_recall: 0.8611 - val_auc: 0.9575\n",
      "Epoch 16/20\n",
      "195/195 - 2s - loss: 1.7670e-06 - fn: 27.0000 - fp: 5531.0000 - tn: 193477.0000 - tp: 329.0000 - precision: 0.0561 - recall: 0.9242 - auc: 0.9801 - val_loss: 0.0699 - val_fn: 13.0000 - val_fp: 129.0000 - val_tn: 42520.0000 - val_tp: 59.0000 - val_precision: 0.3138 - val_recall: 0.8194 - val_auc: 0.9661\n",
      "Epoch 17/20\n",
      "195/195 - 2s - loss: 1.2725e-06 - fn: 25.0000 - fp: 2861.0000 - tn: 196147.0000 - tp: 331.0000 - precision: 0.1037 - recall: 0.9298 - auc: 0.9854 - val_loss: 0.0984 - val_fn: 9.0000 - val_fp: 1117.0000 - val_tn: 41532.0000 - val_tp: 63.0000 - val_precision: 0.0534 - val_recall: 0.8750 - val_auc: 0.9630\n",
      "Epoch 18/20\n",
      "195/195 - 2s - loss: 1.0942e-06 - fn: 18.0000 - fp: 4915.0000 - tn: 194093.0000 - tp: 338.0000 - precision: 0.0643 - recall: 0.9494 - auc: 0.9884 - val_loss: 0.0477 - val_fn: 12.0000 - val_fp: 402.0000 - val_tn: 42247.0000 - val_tp: 60.0000 - val_precision: 0.1299 - val_recall: 0.8333 - val_auc: 0.9449\n",
      "Epoch 19/20\n",
      "195/195 - 2s - loss: 1.7395e-06 - fn: 28.0000 - fp: 4946.0000 - tn: 194062.0000 - tp: 328.0000 - precision: 0.0622 - recall: 0.9213 - auc: 0.9836 - val_loss: 0.1026 - val_fn: 10.0000 - val_fp: 791.0000 - val_tn: 41858.0000 - val_tp: 62.0000 - val_precision: 0.0727 - val_recall: 0.8611 - val_auc: 0.9631\n",
      "Epoch 20/20\n",
      "195/195 - 2s - loss: 1.4278e-06 - fn: 23.0000 - fp: 4513.0000 - tn: 194495.0000 - tp: 333.0000 - precision: 0.0687 - recall: 0.9354 - auc: 0.9825 - val_loss: 0.0492 - val_fn: 12.0000 - val_fp: 223.0000 - val_tn: 42426.0000 - val_tp: 60.0000 - val_precision: 0.2120 - val_recall: 0.8333 - val_auc: 0.9580\n"
     ]
    },
    {
     "data": {
      "text/plain": [
       "<tensorflow.python.keras.callbacks.History at 0x7f4d70195eb8>"
      ]
     },
     "execution_count": 15,
     "metadata": {
      "tags": []
     },
     "output_type": "execute_result"
    }
   ],
   "source": [
    "#Train the model with class_weight argument\n",
    "metrics = [\n",
    "    keras.metrics.FalseNegatives(name=\"fn\"),\n",
    "    keras.metrics.FalsePositives(name=\"fp\"),\n",
    "    keras.metrics.TrueNegatives(name=\"tn\"),\n",
    "    keras.metrics.TruePositives(name=\"tp\"),\n",
    "    keras.metrics.Precision(name=\"precision\"),\n",
    "    keras.metrics.Recall(name=\"recall\"),\n",
    "    keras.metrics.AUC(num_thresholds=10, curve='ROC', summation_method='interpolation', name=None, dtype=None, thresholds=None, multi_label=False, label_weights=None)\n",
    "]\n",
    "\n",
    "model.compile(\n",
    "    optimizer=keras.optimizers.Adam(1e-2), loss=\"binary_crossentropy\", metrics=metrics\n",
    ")\n",
    "\n",
    "callbacks = [keras.callbacks.ModelCheckpoint(\"fraud_model_at_epoch_{epoch}.h5\")]\n",
    "class_weight = {0: weight_for_0, 1: weight_for_1}\n",
    "\n",
    "model.fit(\n",
    "    X_train,\n",
    "    y_train,\n",
    "    batch_size=1024,\n",
    "    epochs=20,\n",
    "    verbose=2,\n",
    "    callbacks=callbacks,\n",
    "    validation_data=(X_validation, y_validation),\n",
    "    class_weight=class_weight,\n",
    ")\n"
   ]
  },
  {
   "cell_type": "code",
   "execution_count": null,
   "metadata": {
    "id": "3MwTzbgtDyrL"
   },
   "outputs": [],
   "source": [
    "NN=model(X_validation)\n",
    "fp, tp, threshold = roc_curve(y_validation, NN)\n",
    "auc_NN = auc(fp, tp)"
   ]
  },
  {
   "cell_type": "code",
   "execution_count": null,
   "metadata": {
    "colab": {
     "base_uri": "https://localhost:8080/",
     "height": 34
    },
    "id": "837tM3WPHDBD",
    "outputId": "43bf2c34-d3e0-4bbc-887e-f93087dd736f"
   },
   "outputs": [
    {
     "name": "stdout",
     "output_type": "stream",
     "text": [
      "0.9706852902634163\n"
     ]
    }
   ],
   "source": [
    "print(auc_NN)"
   ]
  },
  {
   "cell_type": "code",
   "execution_count": null,
   "metadata": {
    "colab": {
     "base_uri": "https://localhost:8080/",
     "height": 71
    },
    "id": "SYEcC5Kg1M2c",
    "outputId": "ad98993b-c491-4bbd-f4d1-6346188a7968"
   },
   "outputs": [
    {
     "name": "stderr",
     "output_type": "stream",
     "text": [
      "/usr/local/lib/python3.6/dist-packages/sklearn/utils/deprecation.py:87: FutureWarning: Function safe_indexing is deprecated; safe_indexing is deprecated in version 0.22 and will be removed in version 0.24.\n",
      "  warnings.warn(msg, category=FutureWarning)\n"
     ]
    }
   ],
   "source": [
    "## separate minority and majority classes\n",
    "## concatenate training data back together\n",
    "X = pd.concat([X_train, y_train], axis=1)\n",
    "not_fraud = X[X.Class==0]\n",
    "fraud = X[X.Class==1]\n",
    "#--------------------------------------------------\n",
    "# 1. Using upsample minority to deal with imbalance\n",
    "fraud_upsampled = resample(fraud,\n",
    "                          replace=True, \n",
    "                          n_samples=len(not_fraud), \n",
    "                          random_state=20) \n",
    "\n",
    "# combine majority and upsampled minority to deal with imbalance\n",
    "upsampled = pd.concat([not_fraud, fraud_upsampled])\n",
    "# check new class counts\n",
    "upsampled.Class.value_counts()\n",
    "\n",
    "y_upsampled = upsampled.Class\n",
    "X_upsampled = upsampled.drop('Class', axis=1)\n",
    "\n",
    "#----------------------------------------------------\n",
    "# 2. Using downsample majority to deal with imbalance\n",
    "not_fraud_downsampled = resample(not_fraud,\n",
    "                                replace = False, \n",
    "                                n_samples = len(fraud), \n",
    "                                random_state = 20) \n",
    "\n",
    "# combine minority and downsampled majority\n",
    "downsampled = pd.concat([not_fraud_downsampled, fraud])\n",
    "# checking counts\n",
    "downsampled.Class.value_counts()\n",
    "\n",
    "y_downsampled = upsampled.Class\n",
    "X_downsampled = upsampled.drop('Class', axis=1)\n",
    "\n",
    "#-----------------------------------------------------\n",
    "# 3. Generate synthetic samples to deal with imbalance\n",
    "sm = SMOTE(random_state=20, ratio=1.0)\n",
    "X_train_sm, y_train_sm = sm.fit_sample(X_train, y_train)"
   ]
  },
  {
   "cell_type": "code",
   "execution_count": null,
   "metadata": {
    "id": "CWzLve0n0mAW"
   },
   "outputs": [],
   "source": [
    "# Logistic Regression\n",
    "logreg1 = LogisticRegression()\n",
    "logreg1.fit(X_upsampled, y_upsampled)\n",
    "y_pred1 = logreg1.predict(X_validation)\n",
    "fp, tp, threshold = roc_curve(y_validation, y_pred1)\n",
    "auc_log_upsampled = auc(fp, tp)\n",
    "\n",
    "logreg2 = LogisticRegression()\n",
    "logreg2.fit(X_downsampled, y_downsampled)\n",
    "y_pred2 = logreg2.predict(X_validation)\n",
    "fp, tp, threshold = roc_curve(y_validation, y_pred2)\n",
    "auc_log_downsampled = auc(fp, tp)\n",
    "\n",
    "logreg3 = LogisticRegression()\n",
    "logreg3.fit(X_train_sm, y_train_sm)\n",
    "y_pred3 = logreg3.predict(X_validation)\n",
    "fp, tp, threshold = roc_curve(y_validation, y_pred3)\n",
    "auc_log_sm = auc(fp, tp)"
   ]
  },
  {
   "cell_type": "code",
   "execution_count": null,
   "metadata": {
    "colab": {
     "base_uri": "https://localhost:8080/",
     "height": 34
    },
    "id": "58kElLVIBNi2",
    "outputId": "2ceb9d70-3f36-4eec-a1e5-85dfe51ee60d"
   },
   "outputs": [
    {
     "name": "stdout",
     "output_type": "stream",
     "text": [
      "0.9463635333380227 0.9463635333380227 0.9243695631785036\n"
     ]
    }
   ],
   "source": [
    "print(auc_log_upsampled,auc_log_downsampled,auc_log_sm)"
   ]
  },
  {
   "cell_type": "code",
   "execution_count": null,
   "metadata": {
    "id": "0B29SJ1oDku0"
   },
   "outputs": [],
   "source": [
    "# Decision Tree\n",
    "decision_tree1 = DecisionTreeClassifier()\n",
    "decision_tree1.fit(X_upsampled, y_upsampled)\n",
    "y_pred1 = decision_tree1.predict(X_validation)\n",
    "fp, tp, threshold = roc_curve(y_validation, y_pred1)\n",
    "auc_decision_tree_upsampled = auc(fp, tp)\n",
    "\n",
    "decision_tree2 = DecisionTreeClassifier()\n",
    "decision_tree2.fit(X_downsampled, y_downsampled)\n",
    "y_pred2 = decision_tree2.predict(X_validation)\n",
    "fp, tp, threshold = roc_curve(y_validation, y_pred2)\n",
    "auc_decision_tree_downsampled = auc(fp, tp)\n",
    "\n",
    "decision_tree3 = DecisionTreeClassifier()\n",
    "decision_tree3.fit(X_train_sm, y_train_sm)\n",
    "y_pred3 = decision_tree3.predict(X_validation)\n",
    "fp, tp, threshold = roc_curve(y_validation, y_pred3)\n",
    "auc_decision_tree_sm = auc(fp, tp)"
   ]
  },
  {
   "cell_type": "code",
   "execution_count": null,
   "metadata": {
    "colab": {
     "base_uri": "https://localhost:8080/",
     "height": 34
    },
    "id": "_JBizW5REMIm",
    "outputId": "e4394c2b-2645-4a96-cbfc-55eb5581b99a"
   },
   "outputs": [
    {
     "name": "stdout",
     "output_type": "stream",
     "text": [
      "0.867867977886677 0.8609469806508425 0.8601380519538039\n"
     ]
    }
   ],
   "source": [
    "print(auc_decision_tree_upsampled,auc_decision_tree_downsampled,auc_decision_tree_sm)"
   ]
  },
  {
   "cell_type": "code",
   "execution_count": null,
   "metadata": {
    "id": "3koDpJH6EVl0"
   },
   "outputs": [],
   "source": [
    "# Random Forest\n",
    "random_forest1 = RandomForestClassifier(n_estimators=100)\n",
    "random_forest1.fit(X_upsampled, y_upsampled)\n",
    "y_pred1 = random_forest1.predict(X_validation)\n",
    "fp, tp, threshold = roc_curve(y_validation, y_pred1)\n",
    "auc_random_forest_upsampled = auc(fp, tp)\n",
    "\n",
    "random_forest2 = RandomForestClassifier(n_estimators=100)\n",
    "random_forest2.fit(X_downsampled, y_downsampled)\n",
    "y_pred2 = random_forest2.predict(X_validation)\n",
    "fp, tp, threshold = roc_curve(y_validation, y_pred2)\n",
    "auc_random_forest_downsampled = auc(fp, tp)\n",
    "\n",
    "random_forest3 = RandomForestClassifier(n_estimators=100)\n",
    "random_forest3.fit(X_train_sm, y_train_sm)\n",
    "y_pred3 = random_forest3.predict(X_validation)\n",
    "fp, tp, threshold = roc_curve(y_validation, y_pred3)\n",
    "auc_random_forest_sm = auc(fp, tp)"
   ]
  },
  {
   "cell_type": "code",
   "execution_count": null,
   "metadata": {
    "colab": {
     "base_uri": "https://localhost:8080/",
     "height": 34
    },
    "id": "88e9v-sFGFBT",
    "outputId": "ca528368-c78f-40a3-dbf9-9900ab4eac27"
   },
   "outputs": [
    {
     "name": "stdout",
     "output_type": "stream",
     "text": [
      "0.8888419944716692 0.8819092736315297 0.8957512681031989\n"
     ]
    }
   ],
   "source": [
    "print(auc_random_forest_upsampled,auc_random_forest_downsampled,auc_random_forest_sm)"
   ]
  },
  {
   "cell_type": "code",
   "execution_count": null,
   "metadata": {
    "id": "u3DS_x7UBl_7"
   },
   "outputs": [],
   "source": [
    "# Stochastic Gradient Descent\n",
    "sgd1 = SGDClassifier()\n",
    "sgd1.fit(X_upsampled, y_upsampled)\n",
    "y_pred1 = sgd1.predict(X_validation)\n",
    "fp, tp, threshold = roc_curve(y_validation, y_pred1)\n",
    "auc_sgd_upsampled = auc(fp, tp)\n",
    "\n",
    "sgd2 = SGDClassifier()\n",
    "sgd2.fit(X_downsampled, y_downsampled)\n",
    "y_pred2 = sgd2.predict(X_validation)\n",
    "fp, tp, threshold = roc_curve(y_validation, y_pred2)\n",
    "auc_sgd_downsampled = auc(fp, tp)\n",
    "\n",
    "sgd3 = SGDClassifier()\n",
    "sgd3.fit(X_train_sm, y_train_sm)\n",
    "y_pred3 = sgd3.predict(X_validation)\n",
    "fp, tp, threshold = roc_curve(y_validation, y_pred3)\n",
    "auc_sgd_sm = auc(fp, tp)"
   ]
  },
  {
   "cell_type": "code",
   "execution_count": null,
   "metadata": {
    "colab": {
     "base_uri": "https://localhost:8080/",
     "height": 34
    },
    "id": "lV2nPeE4EsNK",
    "outputId": "816d6d85-4a54-4f1e-f417-b5d4df2363c0"
   },
   "outputs": [
    {
     "name": "stdout",
     "output_type": "stream",
     "text": [
      "0.9400404399217382 0.9365937002560956 0.930680932990483\n"
     ]
    }
   ],
   "source": [
    "print(auc_sgd_upsampled, auc_sgd_downsampled, auc_sgd_sm)"
   ]
  },
  {
   "cell_type": "code",
   "execution_count": null,
   "metadata": {
    "id": "LPF1wJPfAEV5"
   },
   "outputs": [],
   "source": [
    "# Gaussian Naive Bayes\n",
    "gaussian1 = GaussianNB()\n",
    "gaussian1.fit(X_upsampled, y_upsampled)\n",
    "y_pred1 = gaussian1.predict(X_validation)\n",
    "fp, tp, threshold = roc_curve(y_validation, y_pred1)\n",
    "auc_gnb_upsampled = auc(fp, tp)\n",
    "\n",
    "gaussian2 = GaussianNB()\n",
    "gaussian2.fit(X_downsampled, y_downsampled)\n",
    "y_pred1 = gaussian2.predict(X_validation)\n",
    "fp, tp, threshold = roc_curve(y_validation, y_pred2)\n",
    "auc_gnb_downsampled = auc(fp, tp)\n",
    "\n",
    "gaussian3 = GaussianNB()\n",
    "gaussian3.fit(X_train_sm, y_train_sm)\n",
    "y_pred3 = gaussian1.predict(X_validation)\n",
    "fp, tp, threshold = roc_curve(y_validation, y_pred3)\n",
    "auc_gnb_sm = auc(fp, tp)"
   ]
  },
  {
   "cell_type": "code",
   "execution_count": null,
   "metadata": {
    "colab": {
     "base_uri": "https://localhost:8080/",
     "height": 34
    },
    "id": "JbzfKc9KBe02",
    "outputId": "5ba7c125-5e23-4d0b-fa1c-522b0c7b7e80"
   },
   "outputs": [
    {
     "name": "stdout",
     "output_type": "stream",
     "text": [
      "0.903700360305439 0.9365937002560956 0.903700360305439\n"
     ]
    }
   ],
   "source": [
    "print(auc_gnb_upsampled,auc_gnb_downsampled,auc_gnb_sm)"
   ]
  },
  {
   "cell_type": "code",
   "execution_count": null,
   "metadata": {
    "colab": {
     "base_uri": "https://localhost:8080/",
     "height": 545
    },
    "id": "Odsd_zraFtE_",
    "outputId": "12df6999-9ccc-4957-c58c-912bc5a53e65"
   },
   "outputs": [
    {
     "data": {
      "text/html": [
       "<div>\n",
       "<style scoped>\n",
       "    .dataframe tbody tr th:only-of-type {\n",
       "        vertical-align: middle;\n",
       "    }\n",
       "\n",
       "    .dataframe tbody tr th {\n",
       "        vertical-align: top;\n",
       "    }\n",
       "\n",
       "    .dataframe thead th {\n",
       "        text-align: right;\n",
       "    }\n",
       "</style>\n",
       "<table border=\"1\" class=\"dataframe\">\n",
       "  <thead>\n",
       "    <tr style=\"text-align: right;\">\n",
       "      <th></th>\n",
       "      <th>Model</th>\n",
       "      <th>Score</th>\n",
       "    </tr>\n",
       "  </thead>\n",
       "  <tbody>\n",
       "    <tr>\n",
       "      <th>0</th>\n",
       "      <td>Neural Network</td>\n",
       "      <td>0.970685</td>\n",
       "    </tr>\n",
       "    <tr>\n",
       "      <th>1</th>\n",
       "      <td>Logistic Regression with upsample</td>\n",
       "      <td>0.946364</td>\n",
       "    </tr>\n",
       "    <tr>\n",
       "      <th>2</th>\n",
       "      <td>Logistic Regression with downsample</td>\n",
       "      <td>0.946364</td>\n",
       "    </tr>\n",
       "    <tr>\n",
       "      <th>10</th>\n",
       "      <td>Stochastic Gradient Descent with upsample</td>\n",
       "      <td>0.940040</td>\n",
       "    </tr>\n",
       "    <tr>\n",
       "      <th>11</th>\n",
       "      <td>Stochastic Gradient Descent with downsample</td>\n",
       "      <td>0.936594</td>\n",
       "    </tr>\n",
       "    <tr>\n",
       "      <th>14</th>\n",
       "      <td>Gaussian Naive Bayes with downsample</td>\n",
       "      <td>0.936594</td>\n",
       "    </tr>\n",
       "    <tr>\n",
       "      <th>12</th>\n",
       "      <td>Stochastic Gradient Descent with SMOTE</td>\n",
       "      <td>0.930681</td>\n",
       "    </tr>\n",
       "    <tr>\n",
       "      <th>3</th>\n",
       "      <td>Logistic Regression with SMOTE</td>\n",
       "      <td>0.924370</td>\n",
       "    </tr>\n",
       "    <tr>\n",
       "      <th>13</th>\n",
       "      <td>Gaussian Naive Bayes with upsample</td>\n",
       "      <td>0.903700</td>\n",
       "    </tr>\n",
       "    <tr>\n",
       "      <th>15</th>\n",
       "      <td>Gaussian Naive Bayes with SMOTE</td>\n",
       "      <td>0.903700</td>\n",
       "    </tr>\n",
       "    <tr>\n",
       "      <th>9</th>\n",
       "      <td>Random Forest with SMOTE</td>\n",
       "      <td>0.895751</td>\n",
       "    </tr>\n",
       "    <tr>\n",
       "      <th>7</th>\n",
       "      <td>Random Forest with upsample</td>\n",
       "      <td>0.888842</td>\n",
       "    </tr>\n",
       "    <tr>\n",
       "      <th>8</th>\n",
       "      <td>Random Forest with downsample</td>\n",
       "      <td>0.881909</td>\n",
       "    </tr>\n",
       "    <tr>\n",
       "      <th>4</th>\n",
       "      <td>Decision Tree with umsample</td>\n",
       "      <td>0.867868</td>\n",
       "    </tr>\n",
       "    <tr>\n",
       "      <th>5</th>\n",
       "      <td>Decision Tree with downsample</td>\n",
       "      <td>0.860947</td>\n",
       "    </tr>\n",
       "    <tr>\n",
       "      <th>6</th>\n",
       "      <td>Decision Tree with SMOTE</td>\n",
       "      <td>0.860138</td>\n",
       "    </tr>\n",
       "  </tbody>\n",
       "</table>\n",
       "</div>"
      ],
      "text/plain": [
       "                                          Model     Score\n",
       "0                                Neural Network  0.970685\n",
       "1             Logistic Regression with upsample  0.946364\n",
       "2           Logistic Regression with downsample  0.946364\n",
       "10    Stochastic Gradient Descent with upsample  0.940040\n",
       "11  Stochastic Gradient Descent with downsample  0.936594\n",
       "14         Gaussian Naive Bayes with downsample  0.936594\n",
       "12       Stochastic Gradient Descent with SMOTE  0.930681\n",
       "3                Logistic Regression with SMOTE  0.924370\n",
       "13           Gaussian Naive Bayes with upsample  0.903700\n",
       "15              Gaussian Naive Bayes with SMOTE  0.903700\n",
       "9                      Random Forest with SMOTE  0.895751\n",
       "7                   Random Forest with upsample  0.888842\n",
       "8                 Random Forest with downsample  0.881909\n",
       "4                   Decision Tree with umsample  0.867868\n",
       "5                 Decision Tree with downsample  0.860947\n",
       "6                      Decision Tree with SMOTE  0.860138"
      ]
     },
     "execution_count": 30,
     "metadata": {
      "tags": []
     },
     "output_type": "execute_result"
    }
   ],
   "source": [
    " # Model evaluation \n",
    "model_evaluation = pd.DataFrame({\n",
    "    'Model': ['Neural Network',\n",
    "              'Logistic Regression with upsample', 'Logistic Regression with downsample','Logistic Regression with SMOTE',\n",
    "              'Decision Tree with umsample','Decision Tree with downsample','Decision Tree with SMOTE',\n",
    "              'Random Forest with upsample','Random Forest with downsample','Random Forest with SMOTE', \n",
    "              'Stochastic Gradient Descent with upsample','Stochastic Gradient Descent with downsample','Stochastic Gradient Descent with SMOTE',\n",
    "              'Gaussian Naive Bayes with upsample', 'Gaussian Naive Bayes with downsample','Gaussian Naive Bayes with SMOTE'\n",
    "              ],\n",
    "    'Score': [ auc_NN, \n",
    "              auc_log_upsampled, auc_log_downsampled, auc_log_sm, \n",
    "              auc_decision_tree_upsampled, auc_decision_tree_downsampled, auc_decision_tree_sm,\n",
    "              auc_random_forest_upsampled, auc_random_forest_downsampled, auc_random_forest_sm, \n",
    "              auc_sgd_upsampled, auc_sgd_downsampled, auc_sgd_sm, \n",
    "              auc_gnb_upsampled, auc_gnb_downsampled, auc_gnb_sm]})\n",
    " model_evaluation.sort_values(by='Score', ascending=False)"
   ]
  }
 ],
 "metadata": {
  "accelerator": "GPU",
  "colab": {
   "name": "credit_card_fraud_solution.ipynb",
   "provenance": []
  },
  "kernelspec": {
   "display_name": "Python 3",
   "language": "python",
   "name": "python3"
  },
  "language_info": {
   "codemirror_mode": {
    "name": "ipython",
    "version": 3
   },
   "file_extension": ".py",
   "mimetype": "text/x-python",
   "name": "python",
   "nbconvert_exporter": "python",
   "pygments_lexer": "ipython3",
   "version": "3.8.8"
  }
 },
 "nbformat": 4,
 "nbformat_minor": 1
}
